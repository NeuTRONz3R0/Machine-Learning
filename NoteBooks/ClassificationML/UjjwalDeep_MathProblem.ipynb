{
  "nbformat": 4,
  "nbformat_minor": 0,
  "metadata": {
    "colab": {
      "provenance": [],
      "gpuType": "T4"
    },
    "kernelspec": {
      "name": "python3",
      "display_name": "Python 3"
    },
    "language_info": {
      "name": "python"
    },
    "accelerator": "GPU"
  },
  "cells": [
    {
      "cell_type": "code",
      "execution_count": 56,
      "metadata": {
        "id": "pK3qIzcYbQA3",
        "colab": {
          "base_uri": "https://localhost:8080/"
        },
        "outputId": "2bcf57c3-7dca-4ba3-a245-71fae1abe6d7"
      },
      "outputs": [
        {
          "output_type": "stream",
          "name": "stdout",
          "text": [
            "                                             problem  category\n",
            "0  At a ring toss game at a carnival, Marco throw...        19\n",
            "1  What is `471 ÷ 100`? Interactive: Students fol...        22\n",
            "2  Follow the directions below to create an equiv...        20\n",
            "3  Solve the following system by substitution:\\n`...        14\n",
            "4  Solve the following system by substitution:\\n`...        14\n"
          ]
        }
      ],
      "source": [
        "import pandas as pd\n",
        "import numpy as np\n",
        "from numpy import random\n",
        "import seaborn as sns\n",
        "import nltk\n",
        "from sklearn.model_selection import train_test_split\n",
        "from sklearn.feature_extraction.text import CountVectorizer, TfidfVectorizer\n",
        "from sklearn.metrics import accuracy_score\n",
        "import matplotlib.pyplot as plt\n",
        "from nltk.corpus import stopwords\n",
        "import re\n",
        "%matplotlib inline\n",
        "\n",
        "tdf = pd.read_csv('/content/drive/MyDrive/Colab Notebooks/Mathproblem/train.csv')\n",
        "print(tdf.head())"
      ]
    },
    {
      "cell_type": "code",
      "source": [
        "tdf.category.value_counts()"
      ],
      "metadata": {
        "colab": {
          "base_uri": "https://localhost:8080/"
        },
        "id": "Gqeqma8tzSic",
        "outputId": "2061a826-a66f-4b2e-fcf9-58ee0abc99dd"
      },
      "execution_count": 57,
      "outputs": [
        {
          "output_type": "execute_result",
          "data": {
            "text/plain": [
              "7     19\n",
              "16    11\n",
              "0     10\n",
              "22    10\n",
              "4     10\n",
              "11    10\n",
              "3     10\n",
              "2     10\n",
              "6     10\n",
              "12    10\n",
              "5     10\n",
              "13    10\n",
              "9     10\n",
              "15    10\n",
              "1     10\n",
              "23    10\n",
              "8     10\n",
              "24    10\n",
              "14    10\n",
              "17     9\n",
              "19     9\n",
              "18     8\n",
              "10     8\n",
              "20     8\n",
              "21     8\n",
              "Name: category, dtype: int64"
            ]
          },
          "metadata": {},
          "execution_count": 57
        }
      ]
    },
    {
      "cell_type": "code",
      "source": [
        "tdf.shape"
      ],
      "metadata": {
        "colab": {
          "base_uri": "https://localhost:8080/"
        },
        "id": "zTqGu0STxzYM",
        "outputId": "0f6504dc-6e30-4b5e-ed85-c409b317c986"
      },
      "execution_count": 58,
      "outputs": [
        {
          "output_type": "execute_result",
          "data": {
            "text/plain": [
              "(250, 2)"
            ]
          },
          "metadata": {},
          "execution_count": 58
        }
      ]
    },
    {
      "cell_type": "code",
      "source": [
        "column_names = tdf.columns.tolist()\n",
        "print(\"Column Names:\", column_names)"
      ],
      "metadata": {
        "colab": {
          "base_uri": "https://localhost:8080/"
        },
        "id": "hI9uEk-1yZ62",
        "outputId": "0dec8bb1-5e90-4881-a908-ad6a16f75f3e"
      },
      "execution_count": 59,
      "outputs": [
        {
          "output_type": "stream",
          "name": "stdout",
          "text": [
            "Column Names: ['problem', 'category']\n"
          ]
        }
      ]
    },
    {
      "cell_type": "code",
      "source": [
        "plt.figure(figsize=(8, 6))\n",
        "sns.countplot(x='category', data=tdf,)\n",
        "plt.title('Distribution of Categories')\n",
        "plt.xlabel('Category')\n",
        "plt.ylabel('Count')\n",
        "plt.xticks(rotation=45)\n",
        "plt.show()"
      ],
      "metadata": {
        "colab": {
          "base_uri": "https://localhost:8080/",
          "height": 573
        },
        "id": "Nv4PZEONzFX4",
        "outputId": "82a923c1-378a-4512-946f-3b6c332fea5b"
      },
      "execution_count": 60,
      "outputs": [
        {
          "output_type": "display_data",
          "data": {
            "text/plain": [
              "<Figure size 800x600 with 1 Axes>"
            ],
            "image/png": "[encoded data removed]"
          },
          "metadata": {}
        }
      ]
    },
    {
      "cell_type": "code",
      "source": [
        "def print_plot(index):\n",
        "    example = tdf[tdf.index == index][['problem', 'category']].values[0]\n",
        "    if len(example) > 0:\n",
        "        print(example[0])\n",
        "        print('problem:', example[1])\n",
        "print_plot(11)"
      ],
      "metadata": {
        "colab": {
          "base_uri": "https://localhost:8080/"
        },
        "id": "b_Qy_V8X1DWk",
        "outputId": "05361711-c447-40f3-9442-73c2995139ae"
      },
      "execution_count": 61,
      "outputs": [
        {
          "output_type": "stream",
          "name": "stdout",
          "text": [
            "Violet and Eri are taking surf lessons. Violet pays `$20` for her lesson and `$15` per hour to rent the surfboard. Eri pays `$35` for her lesson and `$10` per hour to rent the surfboard. Write two equations in slope-intercept form to represent each person's total cost `(y)`, in terms of the number of hours `(x)`.\n",
            "\n",
            "problem: 16\n"
          ]
        }
      ]
    },
    {
      "cell_type": "code",
      "source": [
        "X = tdf.problem\n",
        "y = tdf.category\n",
        "X_train, X_test, y_train, y_test = train_test_split(X, y, test_size=0.2, stratify=y, random_state = 123)"
      ],
      "metadata": {
        "id": "jMq8xuVL24CG"
      },
      "execution_count": 62,
      "outputs": []
    },
    {
      "cell_type": "code",
      "source": [
        "# Import required libraries\n",
        "from sklearn.naive_bayes import MultinomialNB\n",
        "from sklearn.pipeline import Pipeline, FeatureUnion\n",
        "from sklearn.model_selection import GridSearchCV, RandomizedSearchCV\n",
        "from sklearn.feature_extraction.text import TfidfTransformer\n",
        "from sklearn.metrics import classification_report\n",
        "from sklearn.metrics import precision_score, recall_score, f1_score\n",
        "\n",
        "# Create the pipeline with FeatureUnion\n",
        "nb = Pipeline([\n",
        "    ('features', FeatureUnion([\n",
        "        ('vect_count', CountVectorizer()),\n",
        "        ('vect_tfidf', TfidfVectorizer())\n",
        "    ])),\n",
        "    ('clf', MultinomialNB())\n",
        "])\n",
        "param_grid = {'features__vect_count__ngram_range': [(1, 3), (2, 2)],  # Try unigrams, bigrams, trigrams, and bigrams only for CountVectorizer\n",
        "    'features__vect_tfidf__ngram_range': [(1, 1), (2, 2), (1, 3)],  # Try unigrams, bigrams, trigrams, and bigrams only for TfidfVectorizer\n",
        "    'features__vect_tfidf__use_idf': [True, False],  # Try with or without inverse document frequency for TfidfVectorizer\n",
        "    'clf__alpha': [0.1, 0.01, 0.001, 0.0001, 0.00001, 1.0],  # Different values of alpha for MultinomialNB\n",
        "}\n",
        "grid_search = GridSearchCV(nb, param_grid, cv=6, scoring='accuracy')\n",
        "grid_search.fit(X_train, y_train)\n",
        "# Print the best hyperparameters and the corresponding accuracy\n",
        "print(\"Best hyperparameters:\", grid_search.best_params_)\n",
        "print(\"Best accuracy:\", grid_search.best_score_)\n",
        "\n",
        "# Get the best model from the grid search\n",
        "best_model = grid_search.best_estimator_\n",
        "\n",
        "# Predict on the test set using the best model\n",
        "y_pred = best_model.predict(X_test)\n",
        "\n",
        "# Print classification report and other metrics\n",
        "print(\"Accuracy:\", accuracy_score(y_pred, y_test))\n",
        "print(\"Precision:\", precision_score(y_test, y_pred, average='weighted'))\n",
        "print(\"Recall:\", recall_score(y_test, y_pred, average='weighted'))\n",
        "print(\"F1-score:\", f1_score(y_test, y_pred, average='weighted'))\n",
        "print(\"\\nClassification Report:\")\n",
        "print(classification_report(y_test, y_pred))\n",
        "\n"
      ],
      "metadata": {
        "colab": {
          "base_uri": "https://localhost:8080/"
        },
        "id": "2sPFPSlo3RB5",
        "outputId": "e44a3b2f-0fac-4e57-f36c-64736f1a21cb"
      },
      "execution_count": 74,
      "outputs": [
        {
          "output_type": "stream",
          "name": "stdout",
          "text": [
            "Best hyperparameters: {'clf__alpha': 0.0001, 'features__vect_count__ngram_range': (2, 2), 'features__vect_tfidf__ngram_range': (1, 3), 'features__vect_tfidf__use_idf': False}\n",
            "Best accuracy: 0.7947118241235889\n",
            "Accuracy: 0.78\n",
            "Precision: 0.78\n",
            "Recall: 0.78\n",
            "F1-score: 0.7746666666666667\n",
            "\n",
            "Classification Report:\n",
            "              precision    recall  f1-score   support\n",
            "\n",
            "           0       1.00      1.00      1.00         2\n",
            "           1       0.50      0.50      0.50         2\n",
            "           2       1.00      1.00      1.00         2\n",
            "           3       1.00      1.00      1.00         2\n",
            "           4       1.00      0.50      0.67         2\n",
            "           5       0.67      1.00      0.80         2\n",
            "           6       1.00      1.00      1.00         2\n",
            "           7       0.75      0.75      0.75         4\n",
            "           8       1.00      1.00      1.00         2\n",
            "           9       1.00      1.00      1.00         2\n",
            "          10       1.00      1.00      1.00         1\n",
            "          11       1.00      1.00      1.00         2\n",
            "          12       1.00      1.00      1.00         2\n",
            "          13       0.00      0.00      0.00         2\n",
            "          14       0.33      0.50      0.40         2\n",
            "          15       1.00      1.00      1.00         2\n",
            "          16       0.00      0.00      0.00         2\n",
            "          17       1.00      1.00      1.00         2\n",
            "          18       0.00      0.00      0.00         2\n",
            "          19       1.00      1.00      1.00         2\n",
            "          20       1.00      1.00      1.00         2\n",
            "          21       0.00      0.00      0.00         1\n",
            "          22       1.00      1.00      1.00         2\n",
            "          23       1.00      1.00      1.00         2\n",
            "          24       1.00      1.00      1.00         2\n",
            "\n",
            "    accuracy                           0.78        50\n",
            "   macro avg       0.77      0.77      0.76        50\n",
            "weighted avg       0.78      0.78      0.77        50\n",
            "\n"
          ]
        }
      ]
    },
    {
      "cell_type": "code",
      "source": [
        "TestData = pd.read_csv(\"/content/drive/MyDrive/Colab Notebooks/Mathproblem/test.csv\")\n",
        "TestData"
      ],
      "metadata": {
        "colab": {
          "base_uri": "https://localhost:8080/",
          "height": 976
        },
        "id": "pVW0AEAPLUAX",
        "outputId": "a3da13e6-8a11-4d39-e29f-5662a5faf191"
      },
      "execution_count": 68,
      "outputs": [
        {
          "output_type": "execute_result",
          "data": {
            "text/plain": [
              "                                               problem  category\n",
              "0    <p>For graduating from middle school,  Wayne r...       NaN\n",
              "1    <p>Mrs. O'Hare bought `18` packs of pencils to...       NaN\n",
              "2    <p>Annalise bought `p` pens last week and `15`...       NaN\n",
              "3    <p>Felicia is decorating cupcakes for a party....       NaN\n",
              "4    <p>Write an expression to match the phrase:</p...       NaN\n",
              "..                                                 ...       ...\n",
              "120  <p>Veronica has `d` more dresses than Larisa d...       NaN\n",
              "121  <p>Write an equation to match the phrase:</p><...       NaN\n",
              "122  <p>Follow the directions below to create an eq...       NaN\n",
              "123  <p>What is `7.5 ÷ 10`?</p><selectivedisplay da...       NaN\n",
              "124  <p>Write an expression to match the phrase:<br...       NaN\n",
              "\n",
              "[125 rows x 2 columns]"
            ],
            "text/html": [
              "\n",
              "\n",
              "  <div id=\"df-d5f1b2f7-7c1f-417a-94a0-7ae03ca79632\">\n",
              "    <div class=\"colab-df-container\">\n",
              "      <div>\n",
              "<style scoped>\n",
              "    .dataframe tbody tr th:only-of-type {\n",
              "        vertical-align: middle;\n",
              "    }\n",
              "\n",
              "    .dataframe tbody tr th {\n",
              "        vertical-align: top;\n",
              "    }\n",
              "\n",
              "    .dataframe thead th {\n",
              "        text-align: right;\n",
              "    }\n",
              "</style>\n",
              "<table border=\"1\" class=\"dataframe\">\n",
              "  <thead>\n",
              "    <tr style=\"text-align: right;\">\n",
              "      <th></th>\n",
              "      <th>problem</th>\n",
              "      <th>category</th>\n",
              "    </tr>\n",
              "  </thead>\n",
              "  <tbody>\n",
              "    <tr>\n",
              "      <th>0</th>\n",
              "      <td>&lt;p&gt;For graduating from middle school,  Wayne r...</td>\n",
              "      <td>NaN</td>\n",
              "    </tr>\n",
              "    <tr>\n",
              "      <th>1</th>\n",
              "      <td>&lt;p&gt;Mrs. O'Hare bought `18` packs of pencils to...</td>\n",
              "      <td>NaN</td>\n",
              "    </tr>\n",
              "    <tr>\n",
              "      <th>2</th>\n",
              "      <td>&lt;p&gt;Annalise bought `p` pens last week and `15`...</td>\n",
              "      <td>NaN</td>\n",
              "    </tr>\n",
              "    <tr>\n",
              "      <th>3</th>\n",
              "      <td>&lt;p&gt;Felicia is decorating cupcakes for a party....</td>\n",
              "      <td>NaN</td>\n",
              "    </tr>\n",
              "    <tr>\n",
              "      <th>4</th>\n",
              "      <td>&lt;p&gt;Write an expression to match the phrase:&lt;/p...</td>\n",
              "      <td>NaN</td>\n",
              "    </tr>\n",
              "    <tr>\n",
              "      <th>...</th>\n",
              "      <td>...</td>\n",
              "      <td>...</td>\n",
              "    </tr>\n",
              "    <tr>\n",
              "      <th>120</th>\n",
              "      <td>&lt;p&gt;Veronica has `d` more dresses than Larisa d...</td>\n",
              "      <td>NaN</td>\n",
              "    </tr>\n",
              "    <tr>\n",
              "      <th>121</th>\n",
              "      <td>&lt;p&gt;Write an equation to match the phrase:&lt;/p&gt;&lt;...</td>\n",
              "      <td>NaN</td>\n",
              "    </tr>\n",
              "    <tr>\n",
              "      <th>122</th>\n",
              "      <td>&lt;p&gt;Follow the directions below to create an eq...</td>\n",
              "      <td>NaN</td>\n",
              "    </tr>\n",
              "    <tr>\n",
              "      <th>123</th>\n",
              "      <td>&lt;p&gt;What is `7.5 ÷ 10`?&lt;/p&gt;&lt;selectivedisplay da...</td>\n",
              "      <td>NaN</td>\n",
              "    </tr>\n",
              "    <tr>\n",
              "      <th>124</th>\n",
              "      <td>&lt;p&gt;Write an expression to match the phrase:&lt;br...</td>\n",
              "      <td>NaN</td>\n",
              "    </tr>\n",
              "  </tbody>\n",
              "</table>\n",
              "<p>125 rows × 2 columns</p>\n",
              "</div>\n",
              "      <button class=\"colab-df-convert\" onclick=\"convertToInteractive('df-d5f1b2f7-7c1f-417a-94a0-7ae03ca79632')\"\n",
              "              title=\"Convert this dataframe to an interactive table.\"\n",
              "              style=\"display:none;\">\n",
              "\n",
              "  <svg xmlns=\"http://www.w3.org/2000/svg\" height=\"24px\"viewBox=\"0 0 24 24\"\n",
              "       width=\"24px\">\n",
              "    <path d=\"M0 0h24v24H0V0z\" fill=\"none\"/>\n",
              "    <path d=\"M18.56 5.44l.94 2.06.94-2.06 2.06-.94-2.06-.94-.94-2.06-.94 2.06-2.06.94zm-11 1L8.5 8.5l.94-2.06 2.06-.94-2.06-.94L8.5 2.5l-.94 2.06-2.06.94zm10 10l.94 2.06.94-2.06 2.06-.94-2.06-.94-.94-2.06-.94 2.06-2.06.94z\"/><path d=\"M17.41 7.96l-1.37-1.37c-.4-.4-.92-.59-1.43-.59-.52 0-1.04.2-1.43.59L10.3 9.45l-7.72 7.72c-.78.78-.78 2.05 0 2.83L4 21.41c.39.39.9.59 1.41.59.51 0 1.02-.2 1.41-.59l7.78-7.78 2.81-2.81c.8-.78.8-2.07 0-2.86zM5.41 20L4 18.59l7.72-7.72 1.47 1.35L5.41 20z\"/>\n",
              "  </svg>\n",
              "      </button>\n",
              "\n",
              "\n",
              "\n",
              "    <div id=\"df-e054df44-4fe1-4eb6-be3b-44583fd2512b\">\n",
              "      <button class=\"colab-df-quickchart\" onclick=\"quickchart('df-e054df44-4fe1-4eb6-be3b-44583fd2512b')\"\n",
              "              title=\"Suggest charts.\"\n",
              "              style=\"display:none;\">\n",
              "\n",
              "<svg xmlns=\"http://www.w3.org/2000/svg\" height=\"24px\"viewBox=\"0 0 24 24\"\n",
              "     width=\"24px\">\n",
              "    <g>\n",
              "        <path d=\"M19 3H5c-1.1 0-2 .9-2 2v14c0 1.1.9 2 2 2h14c1.1 0 2-.9 2-2V5c0-1.1-.9-2-2-2zM9 17H7v-7h2v7zm4 0h-2V7h2v10zm4 0h-2v-4h2v4z\"/>\n",
              "    </g>\n",
              "</svg>\n",
              "      </button>\n",
              "    </div>\n",
              "\n",
              "<style>\n",
              "  .colab-df-quickchart {\n",
              "    background-color: #E8F0FE;\n",
              "    border: none;\n",
              "    border-radius: 50%;\n",
              "    cursor: pointer;\n",
              "    display: none;\n",
              "    fill: #1967D2;\n",
              "    height: 32px;\n",
              "    padding: 0 0 0 0;\n",
              "    width: 32px;\n",
              "  }\n",
              "\n",
              "  .colab-df-quickchart:hover {\n",
              "    background-color: #E2EBFA;\n",
              "    box-shadow: 0px 1px 2px rgba(60, 64, 67, 0.3), 0px 1px 3px 1px rgba(60, 64, 67, 0.15);\n",
              "    fill: #174EA6;\n",
              "  }\n",
              "\n",
              "  [theme=dark] .colab-df-quickchart {\n",
              "    background-color: #3B4455;\n",
              "    fill: #D2E3FC;\n",
              "  }\n",
              "\n",
              "  [theme=dark] .colab-df-quickchart:hover {\n",
              "    background-color: #434B5C;\n",
              "    box-shadow: 0px 1px 3px 1px rgba(0, 0, 0, 0.15);\n",
              "    filter: drop-shadow(0px 1px 2px rgba(0, 0, 0, 0.3));\n",
              "    fill: #FFFFFF;\n",
              "  }\n",
              "</style>\n",
              "\n",
              "    <script>\n",
              "      async function quickchart(key) {\n",
              "        const containerElement = document.querySelector('#' + key);\n",
              "        const charts = await google.colab.kernel.invokeFunction(\n",
              "            'suggestCharts', [key], {});\n",
              "      }\n",
              "    </script>\n",
              "\n",
              "      <script>\n",
              "\n",
              "function displayQuickchartButton(domScope) {\n",
              "  let quickchartButtonEl =\n",
              "    domScope.querySelector('#df-e054df44-4fe1-4eb6-be3b-44583fd2512b button.colab-df-quickchart');\n",
              "  quickchartButtonEl.style.display =\n",
              "    google.colab.kernel.accessAllowed ? 'block' : 'none';\n",
              "}\n",
              "\n",
              "        displayQuickchartButton(document);\n",
              "      </script>\n",
              "      <style>\n",
              "    .colab-df-container {\n",
              "      display:flex;\n",
              "      flex-wrap:wrap;\n",
              "      gap: 12px;\n",
              "    }\n",
              "\n",
              "    .colab-df-convert {\n",
              "      background-color: #E8F0FE;\n",
              "      border: none;\n",
              "      border-radius: 50%;\n",
              "      cursor: pointer;\n",
              "      display: none;\n",
              "      fill: #1967D2;\n",
              "      height: 32px;\n",
              "      padding: 0 0 0 0;\n",
              "      width: 32px;\n",
              "    }\n",
              "\n",
              "    .colab-df-convert:hover {\n",
              "      background-color: #E2EBFA;\n",
              "      box-shadow: 0px 1px 2px rgba(60, 64, 67, 0.3), 0px 1px 3px 1px rgba(60, 64, 67, 0.15);\n",
              "      fill: #174EA6;\n",
              "    }\n",
              "\n",
              "    [theme=dark] .colab-df-convert {\n",
              "      background-color: #3B4455;\n",
              "      fill: #D2E3FC;\n",
              "    }\n",
              "\n",
              "    [theme=dark] .colab-df-convert:hover {\n",
              "      background-color: #434B5C;\n",
              "      box-shadow: 0px 1px 3px 1px rgba(0, 0, 0, 0.15);\n",
              "      filter: drop-shadow(0px 1px 2px rgba(0, 0, 0, 0.3));\n",
              "      fill: #FFFFFF;\n",
              "    }\n",
              "  </style>\n",
              "\n",
              "      <script>\n",
              "        const buttonEl =\n",
              "          document.querySelector('#df-d5f1b2f7-7c1f-417a-94a0-7ae03ca79632 button.colab-df-convert');\n",
              "        buttonEl.style.display =\n",
              "          google.colab.kernel.accessAllowed ? 'block' : 'none';\n",
              "\n",
              "        async function convertToInteractive(key) {\n",
              "          const element = document.querySelector('#df-d5f1b2f7-7c1f-417a-94a0-7ae03ca79632');\n",
              "          const dataTable =\n",
              "            await google.colab.kernel.invokeFunction('convertToInteractive',\n",
              "                                                     [key], {});\n",
              "          if (!dataTable) return;\n",
              "\n",
              "          const docLinkHtml = 'Like what you see? Visit the ' +\n",
              "            '<a target=\"_blank\" href=https://colab.research.google.com/notebooks/data_table.ipynb>data table notebook</a>'\n",
              "            + ' to learn more about interactive tables.';\n",
              "          element.innerHTML = '';\n",
              "          dataTable['output_type'] = 'display_data';\n",
              "          await google.colab.output.renderOutput(dataTable, element);\n",
              "          const docLink = document.createElement('div');\n",
              "          docLink.innerHTML = docLinkHtml;\n",
              "          element.appendChild(docLink);\n",
              "        }\n",
              "      </script>\n",
              "    </div>\n",
              "  </div>\n"
            ]
          },
          "metadata": {},
          "execution_count": 68
        },
        {
          "output_type": "stream",
          "name": "stdout",
          "text": [
            "No charts were generated by quickchart\n",
            "No charts were generated by quickchart\n"
          ]
        }
      ]
    },
    {
      "cell_type": "code",
      "source": [
        "# Load the test data into a pandas DataFrame\n",
        "test_data = pd.read_csv(\"/content/drive/MyDrive/Colab Notebooks/Mathproblem/test.csv\")  # Replace \"test_data.csv\" with the actual filename\n",
        "\n",
        "# Extract the text data from the test data\n",
        "X_test_new = test_data[\"problem\"]\n",
        "\n",
        "# Predict on the new test data using the best model\n",
        "y_pred_new = best_model.predict(X_test_new)\n",
        "\n",
        "# Add the predictions to the test data DataFrame\n",
        "test_data[\"category\"] = y_pred_new\n",
        "\n",
        "# Save the results to a new CSV file\n",
        "test_data.to_csv(\"/content/drive/MyDrive/Colab Notebooks/Mathproblem/test_results.csv\", index=False)  # Replace \"test_results.csv\" with the desired output filename\n"
      ],
      "metadata": {
        "id": "3RFOV6l-L2iu"
      },
      "execution_count": 78,
      "outputs": []
    },
    {
      "cell_type": "code",
      "source": [],
      "metadata": {
        "id": "jP3vs9qhQBYz"
      },
      "execution_count": null,
      "outputs": []
    }
  ]
}